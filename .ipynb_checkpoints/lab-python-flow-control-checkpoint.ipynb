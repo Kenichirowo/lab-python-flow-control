{
 "cells": [
  {
   "cell_type": "markdown",
   "id": "d3bfc191-8885-42ee-b0a0-bbab867c6f9f",
   "metadata": {
    "tags": []
   },
   "source": [
    "# Lab | Flow Control"
   ]
  },
  {
   "cell_type": "markdown",
   "id": "3851fcd1-cf98-4653-9c89-e003b7ec9400",
   "metadata": {},
   "source": [
    "## Exercise: Managing Customer Orders Optimized\n",
    "\n",
    "In the last lab, you were starting an online store that sells various products. To ensure smooth operations, you developed a program that manages customer orders and inventory.\n",
    "\n",
    "You did so without using flow control. Let's go a step further and improve this code.\n",
    "\n",
    "Follow the steps below to complete the exercise:\n",
    "\n",
    "1. Look at your code from the lab data structures, and improve repeated code with loops.\n",
    "\n",
    "2. Instead of asking the user to input the name of three products that a customer wants to order, do the following:\n",
    "    \n",
    "    a. Prompt the user to enter the name of a product that a customer wants to order.\n",
    "    \n",
    "    b. Add the product name to the \"customer_orders\" set.\n",
    "    \n",
    "    c. Ask the user if they want to add another product (yes/no).\n",
    "    \n",
    "    d. Continue the loop until the user does not want to add another product.\n",
    "\n",
    "3. Instead of updating the inventory by subtracting 1 from the quantity of each product, only do it for  the products that were ordered (those in \"customer_orders\")."
   ]
  },
  {
   "cell_type": "markdown",
   "id": "3cb371dc-405b-4828-9091-8783bc8fc2c9",
   "metadata": {},
   "source": [
    "1. and 2."
   ]
  },
  {
   "cell_type": "code",
   "execution_count": 1,
   "id": "de2b4cbd-13a0-45d8-947a-9c0297af8c91",
   "metadata": {},
   "outputs": [
    {
     "name": "stdin",
     "output_type": "stream",
     "text": [
      "Enter the quantity for t-shirt:  100\n",
      "Enter the quantity for mug:  102\n",
      "Enter the quantity for hat:  230\n",
      "Enter the quantity for book:  312\n",
      "Enter the quantity for keychain:  134\n"
     ]
    },
    {
     "name": "stdout",
     "output_type": "stream",
     "text": [
      "Inventory: {'t-shirt': 100, 'mug': 102, 'hat': 230, 'book': 312, 'keychain': 134}\n"
     ]
    }
   ],
   "source": [
    "products = ['t-shirt', 'mug', 'hat', 'book', 'keychain']\n",
    "\n",
    "#setting the inventory\n",
    "inventory = {}\n",
    "\n",
    "for product in products:\n",
    "    quantity = input(f\"Enter the quantity for {product}: \")\n",
    "    # Store the input quantity in the inventory dictionary\n",
    "    # Convert the input to an integer before storing\n",
    "    inventory[product] = int(quantity)\n",
    "\n",
    "# Print the resulting inventory\n",
    "print(\"Inventory:\", inventory)"
   ]
  },
  {
   "cell_type": "code",
   "execution_count": 8,
   "id": "40e0a4c4-fffc-4f13-83d3-d2e847261d75",
   "metadata": {},
   "outputs": [
    {
     "name": "stdin",
     "output_type": "stream",
     "text": [
      "Enter the name of a product you want to order (t-shirt, mug, hat, book, keychain):  mug\n"
     ]
    },
    {
     "name": "stdout",
     "output_type": "stream",
     "text": [
      "mug added to your order.\n"
     ]
    },
    {
     "name": "stdin",
     "output_type": "stream",
     "text": [
      "Would you like to add another product? Please type 'yes' or 'no':  mug\n"
     ]
    },
    {
     "name": "stdout",
     "output_type": "stream",
     "text": [
      "Please type 'yes' or 'no'.\n"
     ]
    },
    {
     "name": "stdin",
     "output_type": "stream",
     "text": [
      "Would you like to add another product? Please type 'yes' or 'no':  yes\n",
      "Enter the name of a product you want to order (t-shirt, mug, hat, book, keychain):  myg\n"
     ]
    },
    {
     "name": "stdout",
     "output_type": "stream",
     "text": [
      "Invalid product. Please choose from the available options.\n"
     ]
    },
    {
     "name": "stdin",
     "output_type": "stream",
     "text": [
      "Would you like to add another product? Please type 'yes' or 'no':  yes\n",
      "Enter the name of a product you want to order (t-shirt, mug, hat, book, keychain):  mug\n"
     ]
    },
    {
     "name": "stdout",
     "output_type": "stream",
     "text": [
      "mug added to your order.\n"
     ]
    },
    {
     "name": "stdin",
     "output_type": "stream",
     "text": [
      "Would you like to add another product? Please type 'yes' or 'no':  no\n"
     ]
    },
    {
     "name": "stdout",
     "output_type": "stream",
     "text": [
      "Customer orders: {'mug'}\n"
     ]
    }
   ],
   "source": [
    "#Prompting the customers to enter products to order:\n",
    "customer_orders = set()\n",
    "keep_adding = True\n",
    "\n",
    "while keep_adding:\n",
    "    product = inputt = input(\"Enter the name of a product you want to order (t-shirt, mug, hat, book, keychain): \")\n",
    "     # Check if the product is available and not already ordered\n",
    "    if product in products:\n",
    "        customer_orders.add(product)\n",
    "        print(f\"{product} added to your order.\")\n",
    "    else:\n",
    "        print(\"Invalid product. Please choose from the available options.\")\n",
    "    #once first product is ordered, lets add the loop to make sure that customer writes yes or no\n",
    "    while True: \n",
    "        question = input(\"Would you like to add another product? Please type 'yes' or 'no': \")\n",
    "        if question.lower() == \"no\":\n",
    "            keep_adding = False #changing keep_adding to False to stop the loop\n",
    "            break  # Exit the loop if the user says 'no'\n",
    "        elif question.lower() == \"yes\":\n",
    "            break  # Just break if 'yes', continue adding products\n",
    "        else:\n",
    "            print(\"Please type 'yes' or 'no'.\")  # Prompt again if neither\n",
    "\n",
    "# Print the customer's orders\n",
    "print(\"Customer orders:\", customer_orders)\n"
   ]
  },
  {
   "cell_type": "markdown",
   "id": "d9e5af25-8eb8-499f-8fa5-2982c22a4df3",
   "metadata": {},
   "source": [
    "3."
   ]
  },
  {
   "cell_type": "code",
   "execution_count": 18,
   "id": "670aa1ca-32cd-4b8b-adee-8f7e1616202c",
   "metadata": {},
   "outputs": [
    {
     "name": "stdout",
     "output_type": "stream",
     "text": [
      "Updated inventory:\n",
      "{'t-shirt': 100, 'mug': 98, 'hat': 230, 'book': 312, 'keychain': 134}\n"
     ]
    }
   ],
   "source": [
    "# Update the inventory based on customer orders\n",
    "for product in customer_orders:\n",
    "    if product in inventory:\n",
    "        inventory[product] -= 1  # Subtract 1 from the quantity of the ordered product\n",
    "\n",
    "# Print the updated inventory\n",
    "print(\"Updated inventory:\")\n",
    "print(inventory)"
   ]
  },
  {
   "cell_type": "code",
   "execution_count": null,
   "id": "a08f950c-77f3-4762-923c-1ac4f8532c48",
   "metadata": {},
   "outputs": [],
   "source": []
  }
 ],
 "metadata": {
  "kernelspec": {
   "display_name": "Python 3 (ipykernel)",
   "language": "python",
   "name": "python3"
  },
  "language_info": {
   "codemirror_mode": {
    "name": "ipython",
    "version": 3
   },
   "file_extension": ".py",
   "mimetype": "text/x-python",
   "name": "python",
   "nbconvert_exporter": "python",
   "pygments_lexer": "ipython3",
   "version": "3.12.7"
  }
 },
 "nbformat": 4,
 "nbformat_minor": 5
}
